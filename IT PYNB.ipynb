{
 "cells": [
  {
   "cell_type": "code",
   "execution_count": 6,
   "metadata": {},
   "outputs": [
    {
     "name": "stdout",
     "output_type": "stream",
     "text": [
      "3 False\n"
     ]
    }
   ],
   "source": [
    "x = 3\n",
    "isInstance = isinstance(x, float)\n",
    "print(str(x) + \" \" + str(isInstance))"
   ]
  },
  {
   "cell_type": "code",
   "execution_count": 42,
   "metadata": {},
   "outputs": [],
   "source": [
    "myObjects = [\n",
    "    {\n",
    "        \"name\":\"Shlok\",\n",
    "        \"gr\":21910163\n",
    "    },\n",
    "    {\n",
    "        \"name\":\"aditya\",\n",
    "        \"gr\":21910379\n",
    "    },\n",
    "    {\n",
    "        \"name\":\"rohan\",\n",
    "        \"gr\":21910456\n",
    "    }\n",
    "]"
   ]
  },
  {
   "cell_type": "code",
   "execution_count": 43,
   "metadata": {
    "scrolled": true
   },
   "outputs": [
    {
     "name": "stdout",
     "output_type": "stream",
     "text": [
      "No\n",
      "Yess\n",
      "No\n"
     ]
    }
   ],
   "source": [
    "for obj in myObjects:\n",
    "    if obj['name'] == \"aditya\":\n",
    "        print(\"Yess\")\n",
    "    else:\n",
    "        print(\"No\")"
   ]
  },
  {
   "cell_type": "code",
   "execution_count": null,
   "metadata": {},
   "outputs": [],
   "source": [
    "myList = [\"4\", \"2\", \"3\"]\n",
    "listStr = \" \".join(myList)"
   ]
  },
  {
   "cell_type": "code",
   "execution_count": null,
   "metadata": {},
   "outputs": [],
   "source": [
    "print(listStr)"
   ]
  },
  {
   "cell_type": "code",
   "execution_count": null,
   "metadata": {},
   "outputs": [],
   "source": [
    "print(listStr.split(\" \"))"
   ]
  },
  {
   "cell_type": "code",
   "execution_count": null,
   "metadata": {},
   "outputs": [],
   "source": [
    "name = \"shlo\"\n",
    "toFind = \"shlokshlokshlo\""
   ]
  },
  {
   "cell_type": "code",
   "execution_count": null,
   "metadata": {},
   "outputs": [],
   "source": [
    "toFind.count(name)"
   ]
  },
  {
   "cell_type": "code",
   "execution_count": null,
   "metadata": {},
   "outputs": [],
   "source": [
    "toFind.find(name)"
   ]
  },
  {
   "cell_type": "code",
   "execution_count": 44,
   "metadata": {},
   "outputs": [
    {
     "name": "stdout",
     "output_type": "stream",
     "text": [
      "Prime numbers between 1 and 200 are : [2, 3, 5, 7, 11, 13, 17, 19, 23, 29, 31, 37, 41, 43, 47, 53, 59, 61, 67, 71, 73, 79, 83, 89, 97, 101, 103, 107, 109, 113, 127, 131, 137, 139, 149, 151, 157, 163, 167, 173, 179, 181, 191, 193, 197, 199]\n"
     ]
    }
   ],
   "source": [
    "# loop --- prime number\n",
    "lower = 1\n",
    "upper = 200\n",
    "primeNumbers = []\n",
    "\n",
    "for num in range(lower, upper + 1):\n",
    "    if num > 1:\n",
    "        for i in range (2, num):\n",
    "            if num%i == 0:\n",
    "                break\n",
    "        else:\n",
    "            primeNumbers.append(num)\n",
    "            \n",
    "print(\"Prime numbers between \" + str(lower) + \" and \" + str(upper)+ \" are : \" + str(primeNumbers))\n"
   ]
  },
  {
   "cell_type": "code",
   "execution_count": 45,
   "metadata": {},
   "outputs": [
    {
     "name": "stdout",
     "output_type": "stream",
     "text": [
      "Armstrong numbers between 1 and 1000 are : [1, 2, 3, 4, 5, 6, 7, 8, 9, 153, 370, 371, 407]\n"
     ]
    }
   ],
   "source": [
    "# Armstrong number in interval\n",
    "\n",
    "lower = 1\n",
    "upper = 1000\n",
    "armstrongNumbers = []\n",
    "\n",
    "for num in range(lower, upper + 1):\n",
    "    order = len(str(num))\n",
    "    sum = 0\n",
    "    \n",
    "    temp = num\n",
    "    while temp > 0:\n",
    "        digit = temp%10\n",
    "        sum += digit ** order\n",
    "        temp = int(temp/10)\n",
    "        \n",
    "    if num == sum:\n",
    "        armstrongNumbers.append(num)\n",
    "        \n",
    "print(\"Armstrong numbers between \" + str(lower) + \" and \" + str(upper)+ \" are : \" + str(armstrongNumbers))\n"
   ]
  },
  {
   "cell_type": "code",
   "execution_count": 46,
   "metadata": {},
   "outputs": [
    {
     "name": "stdout",
     "output_type": "stream",
     "text": [
      "['Shlok', [5, 6, 7], 1, 2.3, ['a', 'b']]\n"
     ]
    }
   ],
   "source": [
    "# types in list\n",
    "\n",
    "myList = []\n",
    "myList = [1, 2, 3]\n",
    "myList = [\"Shlok\", 1, 2, \"Smit\"]\n",
    "myList = [\"Shlok\", [5, 6, 7], 1, 2.3, ['a', 'b']]\n",
    "\n",
    "print(myList)"
   ]
  },
  {
   "cell_type": "code",
   "execution_count": 47,
   "metadata": {},
   "outputs": [
    {
     "name": "stdout",
     "output_type": "stream",
     "text": [
      "Shlok\n",
      "h\n",
      "[5, 6, 7]\n",
      "7\n",
      "2.3\n",
      "b\n"
     ]
    }
   ],
   "source": [
    "print(myList[0])\n",
    "print(myList[0][1])\n",
    "print(myList[1])\n",
    "print(myList[1][2])\n",
    "print(myList[3])\n",
    "print(myList[4][1])"
   ]
  },
  {
   "cell_type": "code",
   "execution_count": 48,
   "metadata": {},
   "outputs": [
    {
     "name": "stdout",
     "output_type": "stream",
     "text": [
      "1\n",
      "1\n"
     ]
    }
   ],
   "source": [
    "# List supports negative indices\n",
    "\n",
    "myList = [1, 2, 3, 4]\n",
    "print(myList[0])\n",
    "print(myList[-4])"
   ]
  },
  {
   "cell_type": "code",
   "execution_count": 49,
   "metadata": {},
   "outputs": [
    {
     "name": "stdout",
     "output_type": "stream",
     "text": [
      "[2, 3]\n"
     ]
    }
   ],
   "source": [
    "#slicing \n",
    "\n",
    "a = myList[1:2]\n",
    "print(myList[1:3])\n"
   ]
  },
  {
   "cell_type": "code",
   "execution_count": 50,
   "metadata": {},
   "outputs": [
    {
     "name": "stdout",
     "output_type": "stream",
     "text": [
      "[10, 2, 3, 4]\n",
      "[10, 20, 30, 4]\n"
     ]
    }
   ],
   "source": [
    "# changing using slicing\n",
    "\n",
    "myList[0] = 10\n",
    "print(myList)\n",
    "\n",
    "myList[1:3] = [20, 30]\n",
    "print(myList)\n"
   ]
  },
  {
   "cell_type": "code",
   "execution_count": 51,
   "metadata": {},
   "outputs": [
    {
     "name": "stdout",
     "output_type": "stream",
     "text": [
      "[10, 20, 30, 4, 50]\n",
      "[10, 20, 30, 4, 50, [6, 7, 8]]\n",
      "[10, 20, 30, 4, 50, 6, 7, 8]\n"
     ]
    }
   ],
   "source": [
    "# append, pop and extend\n",
    "\n",
    "myList = [10, 20, 30, 4]\n",
    "myList.append(50)\n",
    "print(myList)\n",
    "\n",
    "myList.append([6, 7, 8])\n",
    "print(myList)\n",
    "myList.pop()\n",
    "\n",
    "myList.extend([6, 7, 8])\n",
    "print(myList)"
   ]
  },
  {
   "cell_type": "code",
   "execution_count": 52,
   "metadata": {},
   "outputs": [
    {
     "name": "stdout",
     "output_type": "stream",
     "text": [
      "[10, 20, 30, 50, 6, 7, 8]\n",
      "[10, 20, 50, 6, 7, 8]\n"
     ]
    }
   ],
   "source": [
    "# remove and delete\n",
    "\n",
    "myList = [10, 20, 30, 4, 50, 6, 7, 8]\n",
    "myList.remove(4)\n",
    "print(myList)\n",
    "\n",
    "del myList[2]\n",
    "print(myList)"
   ]
  },
  {
   "cell_type": "code",
   "execution_count": 53,
   "metadata": {},
   "outputs": [
    {
     "name": "stdout",
     "output_type": "stream",
     "text": [
      "{1, 2.3, 'Shlok'}\n",
      "{1, 2, 3, 4, 5}\n",
      "{'Name': 'Shlok', 'Age': 19}\n"
     ]
    }
   ],
   "source": [
    "mySet = {1, 2.3, \"Shlok\"}\n",
    "print(mySet)\n",
    "\n",
    "mySet = {1, 1, 2, 2, 2, 3,  4, 5}\n",
    "print(mySet)\n",
    "\n",
    "myDict = {\n",
    "    \"Name\":\"Shlok\",\n",
    "    \"Age\":19\n",
    "}\n",
    "print(myDict)\n"
   ]
  },
  {
   "cell_type": "code",
   "execution_count": 54,
   "metadata": {},
   "outputs": [
    {
     "name": "stdout",
     "output_type": "stream",
     "text": [
      "2531219340864\n",
      "2531219339520\n",
      "{1, 2, 3, 4, 5, 6}\n",
      "2531219339968\n"
     ]
    }
   ],
   "source": [
    "setA = {1, 2, 3, 4}\n",
    "setB = {3, 4, 5, 6}\n",
    "print(id(setA))\n",
    "print(id(setB))\n",
    "\n",
    "setA = setA.union(setB)\n",
    "print(setA)\n",
    "\n",
    "print(id(setA))"
   ]
  },
  {
   "cell_type": "code",
   "execution_count": 55,
   "metadata": {},
   "outputs": [
    {
     "name": "stdout",
     "output_type": "stream",
     "text": [
      "{1: 'Sunday', 'Hello': 'Monday', 3: 'Tuesday', 'Four': 'Wednesday'}\n",
      "Tuesday\n",
      "Monday\n"
     ]
    }
   ],
   "source": [
    "myDict = {\n",
    "    1:\"Sunday\",\n",
    "    \"Hello\":\"Monday\",\n",
    "    3: \"Tuesday\"\n",
    "}\n",
    "\n",
    "myDict[\"Four\"] = \"Wednesday\"\n",
    "print(myDict)\n",
    "\n",
    "print(myDict.get(3))\n",
    "# print(myDict[3])\n",
    "\n",
    "print(myDict[\"Hello\"])\n"
   ]
  },
  {
   "cell_type": "code",
   "execution_count": 56,
   "metadata": {},
   "outputs": [
    {
     "name": "stdout",
     "output_type": "stream",
     "text": [
      "120\n"
     ]
    }
   ],
   "source": [
    "def factorial(num):\n",
    "    if num == 1:\n",
    "        return 1\n",
    "    else:\n",
    "        return num*factorial(num - 1)\n",
    "    \n",
    "myFact = factorial(5)\n",
    "print(myFact)"
   ]
  },
  {
   "cell_type": "code",
   "execution_count": 57,
   "metadata": {},
   "outputs": [
    {
     "name": "stdout",
     "output_type": "stream",
     "text": [
      "[2]\n",
      "After try-except\n"
     ]
    }
   ],
   "source": [
    "try:\n",
    "    print(a)\n",
    "except NameError:\n",
    "    print(\"Name Error\")\n",
    "except:\n",
    "    print(\"Something Error\")\n",
    "finally:\n",
    "    print(\"After try-except\")"
   ]
  },
  {
   "cell_type": "code",
   "execution_count": 58,
   "metadata": {},
   "outputs": [
    {
     "name": "stdout",
     "output_type": "stream",
     "text": [
      "Something Error\n",
      "After try-except\n"
     ]
    }
   ],
   "source": [
    "try:\n",
    "    f= open(\"abc.txt\")\n",
    "except NameError:\n",
    "    print(\"Name Error\")\n",
    "except:\n",
    "    print(\"Something Error\")\n",
    "finally:\n",
    "    print(\"After try-except\")"
   ]
  },
  {
   "cell_type": "code",
   "execution_count": 59,
   "metadata": {},
   "outputs": [],
   "source": [
    "class Student:\n",
    "    studCount = 1\n",
    "    course = \"Engineering\"\n",
    "    def __init__(self, name, age):\n",
    "        self.name = name\n",
    "        self.age = age\n",
    "        self.id = Student.studCount\n",
    "        Student.studCount += 1\n",
    "        \n",
    "    def displayCount():\n",
    "        print(\"No. of students = \" + str(Student.studCount - 1))\n",
    "        \n",
    "    def displayStudent(self):\n",
    "        print(self.name + \" \" + str(self.age) + \" \" + self.course + \" \" + str(self.id))\n",
    "        \n",
    "    "
   ]
  },
  {
   "cell_type": "code",
   "execution_count": 60,
   "metadata": {},
   "outputs": [
    {
     "name": "stdout",
     "output_type": "stream",
     "text": [
      "Shlok 19 Engineering 1\n",
      "Aiman 20 Engineering 2\n",
      "Rohan 18 Engineering 3\n",
      "No. of students = 3\n"
     ]
    }
   ],
   "source": [
    "stud1 = Student('Shlok', 19)\n",
    "stud2 = Student('Aiman', 20)\n",
    "stud3 = Student('Rohan', 18)\n",
    "\n",
    "stud1.displayStudent()\n",
    "stud2.displayStudent()\n",
    "stud3.displayStudent()\n",
    "\n",
    "Student.displayCount()"
   ]
  },
  {
   "cell_type": "code",
   "execution_count": 61,
   "metadata": {},
   "outputs": [
    {
     "name": "stdout",
     "output_type": "stream",
     "text": [
      "Shlok True False\n",
      "Smit True True\n"
     ]
    }
   ],
   "source": [
    "class Person:\n",
    "    \n",
    "    def __init__(self, name):\n",
    "        self.name = name\n",
    "        \n",
    "    def isPerson(self):\n",
    "        return True\n",
    "    \n",
    "    def isEmployee(self):\n",
    "        return False\n",
    "    \n",
    "class Employee(Person):\n",
    "    def isEmployee(self):\n",
    "        return True\n",
    "    \n",
    "p1 = Person(\"Shlok\")\n",
    "print(p1.name, p1.isPerson(), p1.isEmployee())\n",
    "\n",
    "e1 = Employee(\"Smit\")\n",
    "print(e1.name, e1.isPerson(), e1.isEmployee())"
   ]
  },
  {
   "cell_type": "code",
   "execution_count": 62,
   "metadata": {},
   "outputs": [
    {
     "name": "stdout",
     "output_type": "stream",
     "text": [
      "Shlok\n",
      "19\n",
      "\n",
      "Shlok\n",
      "19\n",
      "200000\n",
      "Developer\n"
     ]
    }
   ],
   "source": [
    "class Person:\n",
    "    \n",
    "    def __init__(self, name, age):\n",
    "        self.name = name\n",
    "        self.age = age\n",
    "        \n",
    "    def display(self):\n",
    "        print(self.name)\n",
    "        print(str(self.age))\n",
    "    \n",
    "    \n",
    "class Employee(Person):\n",
    "    \n",
    "    def __init__(self, name, age, salary, post):\n",
    "        self.name = name\n",
    "        self.age = age\n",
    "        self.salary = salary\n",
    "        self.post = post\n",
    "        \n",
    "    def displayEmp(self):\n",
    "        print(self.name)\n",
    "        print(str(self.age))\n",
    "        print(str(self.salary))\n",
    "        print(self.post)\n",
    "        \n",
    "e1 = Employee(\"Shlok\", 19, 200000, \"Developer\")\n",
    "e1.display()\n",
    "print()\n",
    "e1.displayEmp()"
   ]
  },
  {
   "cell_type": "code",
   "execution_count": 7,
   "metadata": {},
   "outputs": [
    {
     "name": "stdout",
     "output_type": "stream",
     "text": [
      "Welcome to Stark Industries\n",
      "Here Steve is working on Mark 4\n",
      "The salary of Steve is 9999999\n"
     ]
    }
   ],
   "source": [
    "class Company:\n",
    "    \n",
    "    def __init__(self, name, proj):\n",
    "        self.name = name\n",
    "        self.proj = proj\n",
    "        \n",
    "    def show(self):\n",
    "        print(\"The code of company is \" + self.ccode)\n",
    "        \n",
    "class Emp(Company):\n",
    "    \n",
    "    def __init__(self, eName, sal, cName, proj):\n",
    "        Company.__init__(self, cName, proj)\n",
    "        self.name = eName\n",
    "        self.sal = sal\n",
    "        \n",
    "    def show_sal(self):\n",
    "        print(\"The salary of \" + self.name + \" is \" + str(self.sal))\n",
    "            \n",
    "            \n",
    "c = Company(\"Stark Industries\", \"Mark 4\")\n",
    "e = Emp(\"Steve\", 9999999, c.name, c.proj)\n",
    "\n",
    "print(\"Welcome to \" + c.name)\n",
    "print(\"Here \" + e.name + \" is working on \" + e.proj)\n",
    "e.show_sal()"
   ]
  },
  {
   "cell_type": "code",
   "execution_count": 9,
   "metadata": {},
   "outputs": [
    {
     "name": "stdout",
     "output_type": "stream",
     "text": [
      "The enrichment from AnotherSubClass\n"
     ]
    }
   ],
   "source": [
    "from abc import ABC, abstractmethod\n",
    "\n",
    "class AbstractClassExample(ABC):\n",
    "    \n",
    "    def do_something(self):\n",
    "        pass\n",
    "    \n",
    "class AnotherSubClass(AbstractClassExample):\n",
    "    \n",
    "    def do_something(self):\n",
    "        super().do_something()\n",
    "        print(\"The enrichment from AnotherSubClass\")\n",
    "        \n",
    "        \n",
    "x = AnotherSubClass()\n",
    "x.do_something()"
   ]
  },
  {
   "cell_type": "code",
   "execution_count": null,
   "metadata": {},
   "outputs": [],
   "source": [
    "# Linked List"
   ]
  },
  {
   "cell_type": "code",
   "execution_count": 69,
   "metadata": {},
   "outputs": [
    {
     "name": "stdout",
     "output_type": "stream",
     "text": [
      "Months Of A Year\n",
      "January\n",
      "February\n",
      "March\n",
      "April\n",
      "May\n",
      "\n",
      "Length = 6\n",
      "\n",
      "Modify Node By Value :- \n",
      "Hi\n",
      "January\n",
      "February\n",
      "March\n",
      "April\n",
      "May\n",
      "\n",
      "Modify Node By Index :- \n",
      "Months Of A Year\n",
      "January\n",
      "February\n",
      "March\n",
      "April\n",
      "May\n"
     ]
    }
   ],
   "source": [
    "class Node:\n",
    "    def __init__(self, data = None):\n",
    "        self.data = data\n",
    "        self.next = None\n",
    "        \n",
    "class Sll:\n",
    "    def __init__(self):\n",
    "        self.start = None\n",
    "        \n",
    "    def displayList(self):\n",
    "        disp = self.start\n",
    "        while(disp != None):\n",
    "            print(disp.data)\n",
    "            disp = disp.next\n",
    "            \n",
    "    def addNodeToEnd(self, data):\n",
    "        temp = self.start\n",
    "        while(temp.next != None):\n",
    "            temp = temp.next\n",
    "        \n",
    "        temp.next = Node(data)\n",
    "        \n",
    "    def addNodeToStart(self, data):\n",
    "        newNode = Node(data)\n",
    "        newNode.next = self.start\n",
    "        self.start = newNode\n",
    "        \n",
    "    def lengthOfList(self):\n",
    "        temp = self.start\n",
    "        count = 0\n",
    "        while(temp != None):\n",
    "            temp = temp.next\n",
    "            count += 1\n",
    "        \n",
    "#         print(\"\\nLength = \" + str(count) + \"\\n\")\n",
    "        return count\n",
    "        \n",
    "    def modifyNode(self, toChange, newData):\n",
    "        temp = self.start\n",
    "        while(temp != None):\n",
    "            if temp.data == toChange:\n",
    "                temp.data = newData\n",
    "                Sll.displayList(self)\n",
    "                return\n",
    "            \n",
    "            temp = temp.next\n",
    "        \n",
    "        print(\"Node not Found\")\n",
    "        \n",
    "    def modifyNodeByIndex(self, toChange, newData):\n",
    "        temp = self.start\n",
    "        count = 0\n",
    "        length = Sll.lengthOfList(self)\n",
    "        \n",
    "        if toChange >= length:\n",
    "            print(\"Invalid Input\")\n",
    "            return\n",
    "        \n",
    "        while(count < length):\n",
    "            \n",
    "#             print(temp.data)\n",
    "            if count == toChange:\n",
    "#                 print(\"temp.data\")\n",
    "                temp.data = newData\n",
    "                Sll.displayList(self)\n",
    "                return\n",
    "            count += 1\n",
    "            temp = temp.next\n",
    "        \n",
    "        print(\"Node not Found\")\n",
    "        \n",
    "# Created Empty List\n",
    "linkedList = Sll()\n",
    "\n",
    "# Created the First Node and assigned its address to the start pointer of the Linked-List\n",
    "linkedList.start = Node(\"January\")\n",
    "\n",
    "# Created Independent Nodes\n",
    "n1 = Node(\"February\")\n",
    "n2 = Node(\"March\")\n",
    "n3 = Node(\"April\")\n",
    "\n",
    "# Adding Nodes to the linked-List\n",
    "linkedList.start.next = n1\n",
    "n1.next = n2\n",
    "n2.next = n3\n",
    "\n",
    "# Adding a node by Code to the End\n",
    "linkedList.addNodeToEnd(\"May\")\n",
    "\n",
    "# Adding a node by Code to the start\n",
    "linkedList.addNodeToStart(\"Months Of A Year\")\n",
    "\n",
    "# Printing the Linked-List\n",
    "linkedList.displayList()\n",
    "\n",
    "# Length of Linked-List\n",
    "print(\"\\nLength = \" + str(linkedList.lengthOfList()))\n",
    "\n",
    "# Modify Node By Value\n",
    "print(\"\\nModify Node By Value :- \")\n",
    "linkedList.modifyNode(\"Months Of A Year\", \"Hi\")\n",
    "\n",
    "# Modify Node By Index\n",
    "print(\"\\nModify Node By Index :- \")\n",
    "linkedList.modifyNodeByIndex(0, \"Months Of A Year\")\n",
    "\n"
   ]
  },
  {
   "cell_type": "code",
   "execution_count": null,
   "metadata": {},
   "outputs": [],
   "source": [
    "# Queue"
   ]
  },
  {
   "cell_type": "code",
   "execution_count": 3,
   "metadata": {},
   "outputs": [
    {
     "name": "stdout",
     "output_type": "stream",
     "text": [
      "Queue Front 40\n",
      "Queue Rear 50\n"
     ]
    }
   ],
   "source": [
    "class Node: \n",
    "      \n",
    "    def __init__(self, data): \n",
    "        self.data = data \n",
    "        self.next = None\n",
    "  \n",
    "# A class to represent a queue \n",
    "  \n",
    "# The queue, front stores the front node of LL and rear stores the last node of LL \n",
    "class Queue: \n",
    "      \n",
    "    def __init__(self): \n",
    "        self.front = self.rear = None    # Initializes the front and rear pointers of queue\n",
    "  \n",
    "    def isEmpty(self): \n",
    "        return self.front == None\n",
    "      \n",
    "    # Method to add an item to the queue \n",
    "    def EnQueue(self, item): \n",
    "        temp = Node(item)    # Creates an independent node with Next field to be None\n",
    "          \n",
    "        if self.rear == None:                        #Checks the queue is empty\n",
    "            self.front = self.rear = temp            # Adds the first node of the queue\n",
    "            return\n",
    "        self.rear.next = temp                 # Add the node to end of queue\n",
    "        self.rear = temp                        # Will make the rear pointer point to new end of the queeu\n",
    "  \n",
    "    # Method to remove an item from queue \n",
    "    def DeQueue(self): \n",
    "          \n",
    "        if self.isEmpty():                         # queeue is empty\n",
    "            return\n",
    "        temp = self.front                      #temp will store the ref of the front node\n",
    "        self.front = temp.next                 # front will move to the second in the queue\n",
    "        temp.next = None\n",
    "  \n",
    "        if(self.front == None):               # if the queue is emplty after deletion the end queue is alos set to None\n",
    "            self.rear = None\n",
    "  \n",
    "# Driver Code \n",
    "if __name__== '__main__': \n",
    "    q = Queue() \n",
    "    q.EnQueue(10) \n",
    "    q.EnQueue(20) \n",
    "    q.DeQueue() \n",
    "    q.DeQueue() \n",
    "    q.EnQueue(30) \n",
    "    q.EnQueue(40) \n",
    "    q.EnQueue(50)  \n",
    "    q.DeQueue()    \n",
    "    print(\"Queue Front \" + str(q.front.data)) \n",
    "    print(\"Queue Rear \" + str(q.rear.data))"
   ]
  },
  {
   "cell_type": "code",
   "execution_count": null,
   "metadata": {},
   "outputs": [],
   "source": [
    "# Stack"
   ]
  },
  {
   "cell_type": "code",
   "execution_count": 6,
   "metadata": {},
   "outputs": [
    {
     "name": "stdout",
     "output_type": "stream",
     "text": [
      "4 -> 3 -> 2 -> 1 -> \n",
      "Top element is  4\n",
      "2 -> 1 -> \n",
      "Top element is  2\n"
     ]
    }
   ],
   "source": [
    "class Node:\n",
    "\n",
    "    # Class to create nodes of linked list\n",
    "    # constructor initializes node automatically\n",
    "    def __init__(self,data):\n",
    "        self.data = data\n",
    "        self.next = None\n",
    "\n",
    "    class Stack:\n",
    "\n",
    "    # head is default NULL\n",
    "        def __init__(self):\n",
    "            self.head = None   # Top pointer of the stack is initialized to None\n",
    "\n",
    "        # Checks if stack is empty\n",
    "        def isempty(self):\n",
    "            if self.head == None:\n",
    "                return True\n",
    "            else:\n",
    "                return False\n",
    "\n",
    "    # Method to add data to the stack\n",
    "    # adds to the start of the stack\n",
    "    def push(self,data):\n",
    "\n",
    "        if self.head == None:           # Checks whether the stack is emoty and this is the first node in stack\n",
    "            self.head=Node(data)\n",
    "\n",
    "        else:\n",
    "            newnode = Node(data)\n",
    "            newnode.next = self.head\n",
    "            self.head = newnode\n",
    "\n",
    "    # Remove element that is the current head (start of the stack)\n",
    "    def pop(self):\n",
    "\n",
    "        if self.isempty():    # stack is empty\n",
    "            return None\n",
    "\n",
    "        else:\n",
    "            # Removes the head node and makes \n",
    "            #the preceeding one the new head\n",
    "            poppednode = self.head\n",
    "            self.head = self.head.next\n",
    "            poppednode.next = None\n",
    "            return poppednode.data\n",
    "\n",
    "    # Returns the head node data\n",
    "    def peek(self):\n",
    "\n",
    "        if self.isempty():\n",
    "            return None\n",
    "\n",
    "        else:\n",
    "            return self.head.data\n",
    "\n",
    "    # Prints out the stack\t \n",
    "    def display(self):\n",
    "\n",
    "        iternode = self.head\n",
    "        if self.isempty():\n",
    "            print(\"Stack Underflow\")\n",
    "\n",
    "        else:\n",
    "            while(iternode != None):\n",
    "                print(iternode.data,\"->\",end = \" \")\n",
    "                iternode = iternode.next\n",
    "                return\n",
    "\n",
    "# Driver code\n",
    "MyStack = Stack()  # Object of the class stack is created\n",
    "\n",
    "MyStack.push(1) # Call push function\n",
    "MyStack.push(2)\n",
    "MyStack.push(3)\n",
    "MyStack.push(4)\n",
    "\n",
    "# Display stack elements \n",
    "MyStack.display()\n",
    "\n",
    "# Print top element of stack \n",
    "print(\"\\nTop element is \",MyStack.peek())\n",
    "\n",
    "# Delete top elements of stack \n",
    "MyStack.pop()\n",
    "MyStack.pop()\n",
    "\n",
    "# Display stack elements\n",
    "MyStack.display()\n",
    "\n",
    "# Print top element of stack \n",
    "print(\"\\nTop element is \", MyStack.peek()) \n"
   ]
  },
  {
   "cell_type": "code",
   "execution_count": 7,
   "metadata": {},
   "outputs": [
    {
     "name": "stdout",
     "output_type": "stream",
     "text": [
      "Data present at the location   2\n"
     ]
    }
   ],
   "source": [
    "def lin_search(data, sizeofdata, key):\n",
    "    for i in range(0, sizeofdata):\n",
    "        if (data[i] == key):\n",
    "            return i\n",
    "        \n",
    "    return -1\n",
    "\n",
    "listdata = [2,33,4,67,3,5,9]\n",
    "n = len(listdata)\n",
    "x = 4\n",
    "search_result = lin_search(listdata, n, x)\n",
    "if (search_result == -1):\n",
    "    print(\"Data not found\")\n",
    "else:\n",
    "    print(\"Data present at the location  \", search_result )"
   ]
  },
  {
   "cell_type": "code",
   "execution_count": 8,
   "metadata": {},
   "outputs": [
    {
     "name": "stdout",
     "output_type": "stream",
     "text": [
      "Data present at the location   5\n"
     ]
    }
   ],
   "source": [
    "def bin_search(data, low, high, key):\n",
    "    if high >= low :\n",
    "        mid = low + (high - low ) //2\n",
    "        \n",
    "        \n",
    "        if (data[mid] == key):\n",
    "            return mid\n",
    "        \n",
    "        elif data[mid]> key :\n",
    "            return bin_search(data, low, mid-1, key)\n",
    "        else:\n",
    "            return bin_search(data, mid +1 , high, key)\n",
    "    else:\n",
    "        return -1\n",
    "    \n",
    "listdata = [2,4, 33,67,83,115,219]\n",
    "n = len(listdata)\n",
    "x = 115\n",
    "search_result = bin_search(listdata,0, n, x)\n",
    "if (search_result == -1):\n",
    "    print(\"Data not found\")\n",
    "else:\n",
    "    print(\"Data present at the location  \", search_result )"
   ]
  },
  {
   "cell_type": "code",
   "execution_count": 9,
   "metadata": {},
   "outputs": [
    {
     "name": "stdout",
     "output_type": "stream",
     "text": [
      "Sorted array is:\n",
      "11\n",
      "12\n",
      "22\n",
      "25\n",
      "34\n",
      "64\n",
      "90\n"
     ]
    }
   ],
   "source": [
    "def bubbleSort(arr): \n",
    "    n = len(arr) \n",
    "  \n",
    "    # Traverse through all array elements \n",
    "    for i in range(n-1): \n",
    "    # range(n) also work but outer loop will repeat one time more than needed. \n",
    "  \n",
    "        # Last i elements are already in place \n",
    "        for j in range(0, n-i-1): \n",
    "  \n",
    "            # traverse the array from 0 to n-i-1 \n",
    "            # Swap if the element found is greater \n",
    "            # than the next element \n",
    "            if arr[j] > arr[j+1] : \n",
    "                arr[j], arr[j+1] = arr[j+1], arr[j] \n",
    "  \n",
    "# Driver code to test above \n",
    "arr = [64, 34, 25, 12, 22, 11, 90] \n",
    "  \n",
    "bubbleSort(arr) \n",
    "  \n",
    "print (\"Sorted array is:\") \n",
    "for i in range(len(arr)): \n",
    "    print (\"%d\" %arr[i]),"
   ]
  },
  {
   "cell_type": "code",
   "execution_count": 10,
   "metadata": {},
   "outputs": [
    {
     "name": "stdout",
     "output_type": "stream",
     "text": [
      "Sorted array is:\n",
      "5\n",
      "6\n",
      "11\n",
      "12\n",
      "13\n"
     ]
    }
   ],
   "source": [
    "def insertionSort(arr): \n",
    "  \n",
    "    # Traverse through 1 to len(arr) \n",
    "    for i in range(1, len(arr)): \n",
    "  \n",
    "        key = arr[i] \n",
    "  \n",
    "        # Move elements of arr[0..i-1], that are \n",
    "        # greater than key, to one position ahead \n",
    "        # of their current position \n",
    "        j = i-1\n",
    "        while j >=0 and key < arr[j] : \n",
    "                arr[j+1] = arr[j] \n",
    "                j -= 1\n",
    "        arr[j+1] = key \n",
    "  \n",
    "  \n",
    "# Driver code to test above \n",
    "arr = [12, 11, 13, 5, 6] \n",
    "insertionSort(arr) \n",
    "print (\"Sorted array is:\") \n",
    "for i in range(len(arr)): \n",
    "    print (\"%d\" %arr[i])"
   ]
  },
  {
   "cell_type": "code",
   "execution_count": 11,
   "metadata": {},
   "outputs": [
    {
     "name": "stdout",
     "output_type": "stream",
     "text": [
      "Sorted array\n",
      "11\n",
      "12\n",
      "22\n",
      "25\n",
      "64\n"
     ]
    }
   ],
   "source": [
    "import sys \n",
    "A = [64, 25, 12, 22, 11] \n",
    "  \n",
    "# Traverse through all array elements \n",
    "for i in range(len(A)): \n",
    "      \n",
    "    # Find the minimum element in remaining  \n",
    "    # unsorted array \n",
    "    min_idx = i \n",
    "    for j in range(i+1, len(A)): \n",
    "        if A[min_idx] > A[j]: \n",
    "            min_idx = j \n",
    "              \n",
    "    # Swap the found minimum element with  \n",
    "    # the first element         \n",
    "    A[i], A[min_idx] = A[min_idx], A[i] \n",
    "  \n",
    "# Driver code to test above \n",
    "print (\"Sorted array\") \n",
    "for i in range(len(A)): \n",
    "    print(\"%d\" %A[i]),"
   ]
  },
  {
   "cell_type": "code",
   "execution_count": null,
   "metadata": {},
   "outputs": [],
   "source": [
    "# Merge sort"
   ]
  },
  {
   "cell_type": "code",
   "execution_count": 1,
   "metadata": {},
   "outputs": [
    {
     "name": "stdout",
     "output_type": "stream",
     "text": [
      "Input Array:\n",
      "\n",
      "[11, 31, 7, 41, 101, 56, 77, 2]\n",
      "Sorted Array:\n",
      "\n",
      "[2, 7, 11, 31, 41, 56, 77, 101]\n"
     ]
    }
   ],
   "source": [
    "def merge_sort(inp_arr):\n",
    "    size = len(inp_arr)\n",
    "    if size > 1:\n",
    "        middle = size // 2\n",
    "        left_arr = inp_arr[:middle]\n",
    "        right_arr = inp_arr[middle:]\n",
    " \n",
    "        merge_sort(left_arr)\n",
    "        merge_sort(right_arr)\n",
    " \n",
    "        p = 0\n",
    "        q = 0\n",
    "        r = 0\n",
    " \n",
    "        left_size = len(left_arr)\n",
    "        right_size = len(right_arr)\n",
    "        while p < left_size and q < right_size:\n",
    "            if left_arr[p] < right_arr[q]:\n",
    "              inp_arr[r] = left_arr[p]\n",
    "              p += 1\n",
    "            else:\n",
    "                inp_arr[r] = right_arr[q]\n",
    "                q += 1\n",
    "             \n",
    "            r += 1\n",
    " \n",
    "        \n",
    "        while p < left_size:\n",
    "            inp_arr[r] = left_arr[p]\n",
    "            p += 1\n",
    "            r += 1\n",
    " \n",
    "        while q < right_size:\n",
    "            inp_arr[r]=right_arr[q]\n",
    "            q += 1\n",
    "            r += 1\n",
    " \n",
    "inp_arr = [11, 31, 7, 41, 101, 56, 77, 2]\n",
    "print(\"Input Array:\\n\")\n",
    "print(inp_arr)\n",
    "merge_sort(inp_arr)\n",
    "print(\"Sorted Array:\\n\")\n",
    "print(inp_arr)"
   ]
  },
  {
   "cell_type": "code",
   "execution_count": null,
   "metadata": {},
   "outputs": [],
   "source": [
    "# Quick sort"
   ]
  },
  {
   "cell_type": "code",
   "execution_count": 2,
   "metadata": {},
   "outputs": [
    {
     "name": "stdout",
     "output_type": "stream",
     "text": [
      "[-78, -41, 12, 19, 21, 27, 28, 29, 44, 44, 58, 66, 87, 97, 129, 188, 276, 312, 843]\n"
     ]
    }
   ],
   "source": [
    "def partition(array, start, end):\n",
    "    pivot = array[start]\n",
    "    low = start + 1\n",
    "    high = end\n",
    "\n",
    "    while True:\n",
    "        # If the current value we're looking at is larger than the pivot\n",
    "        # it's in the right place (right side of pivot) and we can move left,\n",
    "        # to the next element.\n",
    "        # We also need to make sure we haven't surpassed the low pointer, since that\n",
    "        # indicates we have already moved all the elements to their correct side of the pivot\n",
    "        while low <= high and array[high] >= pivot:\n",
    "            high = high - 1\n",
    "\n",
    "        # Opposite process of the one above\n",
    "        while low <= high and array[low] <= pivot:\n",
    "            low = low + 1\n",
    "\n",
    "        # We either found a value for both high and low that is out of order\n",
    "        # or low is higher than high, in which case we exit the loop\n",
    "        if low <= high:\n",
    "            array[low], array[high] = array[high], array[low]\n",
    "            # The loop continues\n",
    "        else:\n",
    "            # We exit out of the loop\n",
    "            break\n",
    "\n",
    "    array[start], array[high] = array[high], array[start]\n",
    "\n",
    "    return high\n",
    "\n",
    "\n",
    "def quick_sort(array, start, end):\n",
    "    if start >= end:\n",
    "        return\n",
    "\n",
    "    p = partition(array, start, end)\n",
    "    quick_sort(array, start, p-1)\n",
    "    quick_sort(array, p+1, end)\n",
    "    \n",
    "    \n",
    "#Driver code\n",
    "array = [29,129,27,-41,66,28,44,-78,87,19,312,276,58,188,843,97,12,21,44]\n",
    "\n",
    "quick_sort(array, 0, len(array) - 1)\n",
    "print(array)"
   ]
  }
 ],
 "metadata": {
  "kernelspec": {
   "display_name": "Python 3",
   "language": "python",
   "name": "python3"
  },
  "language_info": {
   "codemirror_mode": {
    "name": "ipython",
    "version": 3
   },
   "file_extension": ".py",
   "mimetype": "text/x-python",
   "name": "python",
   "nbconvert_exporter": "python",
   "pygments_lexer": "ipython3",
   "version": "3.8.5"
  }
 },
 "nbformat": 4,
 "nbformat_minor": 4
}
