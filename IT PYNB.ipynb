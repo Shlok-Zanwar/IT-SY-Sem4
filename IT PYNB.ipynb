{
 "cells": [
  {
   "cell_type": "code",
   "execution_count": 6,
   "metadata": {},
   "outputs": [
    {
     "name": "stdout",
     "output_type": "stream",
     "text": [
      "3 False\n"
     ]
    }
   ],
   "source": [
    "x = 3\n",
    "isInstance = isinstance(x, float)\n",
    "print(str(x) + \" \" + str(isInstance))"
   ]
  },
  {
   "cell_type": "code",
   "execution_count": 42,
   "metadata": {},
   "outputs": [],
   "source": [
    "myObjects = [\n",
    "    {\n",
    "        \"name\":\"Shlok\",\n",
    "        \"gr\":21910163\n",
    "    },\n",
    "    {\n",
    "        \"name\":\"aditya\",\n",
    "        \"gr\":21910379\n",
    "    },\n",
    "    {\n",
    "        \"name\":\"rohan\",\n",
    "        \"gr\":21910456\n",
    "    }\n",
    "]"
   ]
  },
  {
   "cell_type": "code",
   "execution_count": 43,
   "metadata": {
    "scrolled": true
   },
   "outputs": [
    {
     "name": "stdout",
     "output_type": "stream",
     "text": [
      "No\n",
      "Yess\n",
      "No\n"
     ]
    }
   ],
   "source": [
    "for obj in myObjects:\n",
    "    if obj['name'] == \"aditya\":\n",
    "        print(\"Yess\")\n",
    "    else:\n",
    "        print(\"No\")"
   ]
  },
  {
   "cell_type": "code",
   "execution_count": null,
   "metadata": {},
   "outputs": [],
   "source": [
    "myList = [\"4\", \"2\", \"3\"]\n",
    "listStr = \" \".join(myList)"
   ]
  },
  {
   "cell_type": "code",
   "execution_count": null,
   "metadata": {},
   "outputs": [],
   "source": [
    "print(listStr)"
   ]
  },
  {
   "cell_type": "code",
   "execution_count": null,
   "metadata": {},
   "outputs": [],
   "source": [
    "print(listStr.split(\" \"))"
   ]
  },
  {
   "cell_type": "code",
   "execution_count": null,
   "metadata": {},
   "outputs": [],
   "source": [
    "name = \"shlo\"\n",
    "toFind = \"shlokshlokshlo\""
   ]
  },
  {
   "cell_type": "code",
   "execution_count": null,
   "metadata": {},
   "outputs": [],
   "source": [
    "toFind.count(name)"
   ]
  },
  {
   "cell_type": "code",
   "execution_count": null,
   "metadata": {},
   "outputs": [],
   "source": [
    "toFind.find(name)"
   ]
  },
  {
   "cell_type": "code",
   "execution_count": 44,
   "metadata": {},
   "outputs": [
    {
     "name": "stdout",
     "output_type": "stream",
     "text": [
      "Prime numbers between 1 and 200 are : [2, 3, 5, 7, 11, 13, 17, 19, 23, 29, 31, 37, 41, 43, 47, 53, 59, 61, 67, 71, 73, 79, 83, 89, 97, 101, 103, 107, 109, 113, 127, 131, 137, 139, 149, 151, 157, 163, 167, 173, 179, 181, 191, 193, 197, 199]\n"
     ]
    }
   ],
   "source": [
    "# loop --- prime number\n",
    "lower = 1\n",
    "upper = 200\n",
    "primeNumbers = []\n",
    "\n",
    "for num in range(lower, upper + 1):\n",
    "    if num > 1:\n",
    "        for i in range (2, num):\n",
    "            if num%i == 0:\n",
    "                break\n",
    "        else:\n",
    "            primeNumbers.append(num)\n",
    "            \n",
    "print(\"Prime numbers between \" + str(lower) + \" and \" + str(upper)+ \" are : \" + str(primeNumbers))\n"
   ]
  },
  {
   "cell_type": "code",
   "execution_count": 45,
   "metadata": {},
   "outputs": [
    {
     "name": "stdout",
     "output_type": "stream",
     "text": [
      "Armstrong numbers between 1 and 1000 are : [1, 2, 3, 4, 5, 6, 7, 8, 9, 153, 370, 371, 407]\n"
     ]
    }
   ],
   "source": [
    "# Armstrong number in interval\n",
    "\n",
    "lower = 1\n",
    "upper = 1000\n",
    "armstrongNumbers = []\n",
    "\n",
    "for num in range(lower, upper + 1):\n",
    "    order = len(str(num))\n",
    "    sum = 0\n",
    "    \n",
    "    temp = num\n",
    "    while temp > 0:\n",
    "        digit = temp%10\n",
    "        sum += digit ** order\n",
    "        temp = int(temp/10)\n",
    "        \n",
    "    if num == sum:\n",
    "        armstrongNumbers.append(num)\n",
    "        \n",
    "print(\"Armstrong numbers between \" + str(lower) + \" and \" + str(upper)+ \" are : \" + str(armstrongNumbers))\n"
   ]
  },
  {
   "cell_type": "code",
   "execution_count": 46,
   "metadata": {},
   "outputs": [
    {
     "name": "stdout",
     "output_type": "stream",
     "text": [
      "['Shlok', [5, 6, 7], 1, 2.3, ['a', 'b']]\n"
     ]
    }
   ],
   "source": [
    "# types in list\n",
    "\n",
    "myList = []\n",
    "myList = [1, 2, 3]\n",
    "myList = [\"Shlok\", 1, 2, \"Smit\"]\n",
    "myList = [\"Shlok\", [5, 6, 7], 1, 2.3, ['a', 'b']]\n",
    "\n",
    "print(myList)"
   ]
  },
  {
   "cell_type": "code",
   "execution_count": 47,
   "metadata": {},
   "outputs": [
    {
     "name": "stdout",
     "output_type": "stream",
     "text": [
      "Shlok\n",
      "h\n",
      "[5, 6, 7]\n",
      "7\n",
      "2.3\n",
      "b\n"
     ]
    }
   ],
   "source": [
    "print(myList[0])\n",
    "print(myList[0][1])\n",
    "print(myList[1])\n",
    "print(myList[1][2])\n",
    "print(myList[3])\n",
    "print(myList[4][1])"
   ]
  },
  {
   "cell_type": "code",
   "execution_count": 48,
   "metadata": {},
   "outputs": [
    {
     "name": "stdout",
     "output_type": "stream",
     "text": [
      "1\n",
      "1\n"
     ]
    }
   ],
   "source": [
    "# List supports negative indices\n",
    "\n",
    "myList = [1, 2, 3, 4]\n",
    "print(myList[0])\n",
    "print(myList[-4])"
   ]
  },
  {
   "cell_type": "code",
   "execution_count": 49,
   "metadata": {},
   "outputs": [
    {
     "name": "stdout",
     "output_type": "stream",
     "text": [
      "[2, 3]\n"
     ]
    }
   ],
   "source": [
    "#slicing \n",
    "\n",
    "a = myList[1:2]\n",
    "print(myList[1:3])\n"
   ]
  },
  {
   "cell_type": "code",
   "execution_count": 50,
   "metadata": {},
   "outputs": [
    {
     "name": "stdout",
     "output_type": "stream",
     "text": [
      "[10, 2, 3, 4]\n",
      "[10, 20, 30, 4]\n"
     ]
    }
   ],
   "source": [
    "# changing using slicing\n",
    "\n",
    "myList[0] = 10\n",
    "print(myList)\n",
    "\n",
    "myList[1:3] = [20, 30]\n",
    "print(myList)\n"
   ]
  },
  {
   "cell_type": "code",
   "execution_count": 51,
   "metadata": {},
   "outputs": [
    {
     "name": "stdout",
     "output_type": "stream",
     "text": [
      "[10, 20, 30, 4, 50]\n",
      "[10, 20, 30, 4, 50, [6, 7, 8]]\n",
      "[10, 20, 30, 4, 50, 6, 7, 8]\n"
     ]
    }
   ],
   "source": [
    "# append, pop and extend\n",
    "\n",
    "myList = [10, 20, 30, 4]\n",
    "myList.append(50)\n",
    "print(myList)\n",
    "\n",
    "myList.append([6, 7, 8])\n",
    "print(myList)\n",
    "myList.pop()\n",
    "\n",
    "myList.extend([6, 7, 8])\n",
    "print(myList)"
   ]
  },
  {
   "cell_type": "code",
   "execution_count": 52,
   "metadata": {},
   "outputs": [
    {
     "name": "stdout",
     "output_type": "stream",
     "text": [
      "[10, 20, 30, 50, 6, 7, 8]\n",
      "[10, 20, 50, 6, 7, 8]\n"
     ]
    }
   ],
   "source": [
    "# remove and delete\n",
    "\n",
    "myList = [10, 20, 30, 4, 50, 6, 7, 8]\n",
    "myList.remove(4)\n",
    "print(myList)\n",
    "\n",
    "del myList[2]\n",
    "print(myList)"
   ]
  },
  {
   "cell_type": "code",
   "execution_count": 53,
   "metadata": {},
   "outputs": [
    {
     "name": "stdout",
     "output_type": "stream",
     "text": [
      "{1, 2.3, 'Shlok'}\n",
      "{1, 2, 3, 4, 5}\n",
      "{'Name': 'Shlok', 'Age': 19}\n"
     ]
    }
   ],
   "source": [
    "mySet = {1, 2.3, \"Shlok\"}\n",
    "print(mySet)\n",
    "\n",
    "mySet = {1, 1, 2, 2, 2, 3,  4, 5}\n",
    "print(mySet)\n",
    "\n",
    "myDict = {\n",
    "    \"Name\":\"Shlok\",\n",
    "    \"Age\":19\n",
    "}\n",
    "print(myDict)\n"
   ]
  },
  {
   "cell_type": "code",
   "execution_count": 54,
   "metadata": {},
   "outputs": [
    {
     "name": "stdout",
     "output_type": "stream",
     "text": [
      "2531219340864\n",
      "2531219339520\n",
      "{1, 2, 3, 4, 5, 6}\n",
      "2531219339968\n"
     ]
    }
   ],
   "source": [
    "setA = {1, 2, 3, 4}\n",
    "setB = {3, 4, 5, 6}\n",
    "print(id(setA))\n",
    "print(id(setB))\n",
    "\n",
    "setA = setA.union(setB)\n",
    "print(setA)\n",
    "\n",
    "print(id(setA))"
   ]
  },
  {
   "cell_type": "code",
   "execution_count": 55,
   "metadata": {},
   "outputs": [
    {
     "name": "stdout",
     "output_type": "stream",
     "text": [
      "{1: 'Sunday', 'Hello': 'Monday', 3: 'Tuesday', 'Four': 'Wednesday'}\n",
      "Tuesday\n",
      "Monday\n"
     ]
    }
   ],
   "source": [
    "myDict = {\n",
    "    1:\"Sunday\",\n",
    "    \"Hello\":\"Monday\",\n",
    "    3: \"Tuesday\"\n",
    "}\n",
    "\n",
    "myDict[\"Four\"] = \"Wednesday\"\n",
    "print(myDict)\n",
    "\n",
    "print(myDict.get(3))\n",
    "# print(myDict[3])\n",
    "\n",
    "print(myDict[\"Hello\"])\n"
   ]
  },
  {
   "cell_type": "code",
   "execution_count": 56,
   "metadata": {},
   "outputs": [
    {
     "name": "stdout",
     "output_type": "stream",
     "text": [
      "120\n"
     ]
    }
   ],
   "source": [
    "def factorial(num):\n",
    "    if num == 1:\n",
    "        return 1\n",
    "    else:\n",
    "        return num*factorial(num - 1)\n",
    "    \n",
    "myFact = factorial(5)\n",
    "print(myFact)"
   ]
  },
  {
   "cell_type": "code",
   "execution_count": 57,
   "metadata": {},
   "outputs": [
    {
     "name": "stdout",
     "output_type": "stream",
     "text": [
      "[2]\n",
      "After try-except\n"
     ]
    }
   ],
   "source": [
    "try:\n",
    "    print(a)\n",
    "except NameError:\n",
    "    print(\"Name Error\")\n",
    "except:\n",
    "    print(\"Something Error\")\n",
    "finally:\n",
    "    print(\"After try-except\")"
   ]
  },
  {
   "cell_type": "code",
   "execution_count": 58,
   "metadata": {},
   "outputs": [
    {
     "name": "stdout",
     "output_type": "stream",
     "text": [
      "Something Error\n",
      "After try-except\n"
     ]
    }
   ],
   "source": [
    "try:\n",
    "    f= open(\"abc.txt\")\n",
    "except NameError:\n",
    "    print(\"Name Error\")\n",
    "except:\n",
    "    print(\"Something Error\")\n",
    "finally:\n",
    "    print(\"After try-except\")"
   ]
  },
  {
   "cell_type": "code",
   "execution_count": 59,
   "metadata": {},
   "outputs": [],
   "source": [
    "class Student:\n",
    "    studCount = 1\n",
    "    course = \"Engineering\"\n",
    "    def __init__(self, name, age):\n",
    "        self.name = name\n",
    "        self.age = age\n",
    "        self.id = Student.studCount\n",
    "        Student.studCount += 1\n",
    "        \n",
    "    def displayCount():\n",
    "        print(\"No. of students = \" + str(Student.studCount - 1))\n",
    "        \n",
    "    def displayStudent(self):\n",
    "        print(self.name + \" \" + str(self.age) + \" \" + self.course + \" \" + str(self.id))\n",
    "        \n",
    "    "
   ]
  },
  {
   "cell_type": "code",
   "execution_count": 60,
   "metadata": {},
   "outputs": [
    {
     "name": "stdout",
     "output_type": "stream",
     "text": [
      "Shlok 19 Engineering 1\n",
      "Aiman 20 Engineering 2\n",
      "Rohan 18 Engineering 3\n",
      "No. of students = 3\n"
     ]
    }
   ],
   "source": [
    "stud1 = Student('Shlok', 19)\n",
    "stud2 = Student('Aiman', 20)\n",
    "stud3 = Student('Rohan', 18)\n",
    "\n",
    "stud1.displayStudent()\n",
    "stud2.displayStudent()\n",
    "stud3.displayStudent()\n",
    "\n",
    "Student.displayCount()"
   ]
  },
  {
   "cell_type": "code",
   "execution_count": 61,
   "metadata": {},
   "outputs": [
    {
     "name": "stdout",
     "output_type": "stream",
     "text": [
      "Shlok True False\n",
      "Smit True True\n"
     ]
    }
   ],
   "source": [
    "class Person:\n",
    "    \n",
    "    def __init__(self, name):\n",
    "        self.name = name\n",
    "        \n",
    "    def isPerson(self):\n",
    "        return True\n",
    "    \n",
    "    def isEmployee(self):\n",
    "        return False\n",
    "    \n",
    "class Employee(Person):\n",
    "    def isEmployee(self):\n",
    "        return True\n",
    "    \n",
    "p1 = Person(\"Shlok\")\n",
    "print(p1.name, p1.isPerson(), p1.isEmployee())\n",
    "\n",
    "e1 = Employee(\"Smit\")\n",
    "print(e1.name, e1.isPerson(), e1.isEmployee())"
   ]
  },
  {
   "cell_type": "code",
   "execution_count": 62,
   "metadata": {},
   "outputs": [
    {
     "name": "stdout",
     "output_type": "stream",
     "text": [
      "Shlok\n",
      "19\n",
      "\n",
      "Shlok\n",
      "19\n",
      "200000\n",
      "Developer\n"
     ]
    }
   ],
   "source": [
    "class Person:\n",
    "    \n",
    "    def __init__(self, name, age):\n",
    "        self.name = name\n",
    "        self.age = age\n",
    "        \n",
    "    def display(self):\n",
    "        print(self.name)\n",
    "        print(str(self.age))\n",
    "    \n",
    "    \n",
    "class Employee(Person):\n",
    "    \n",
    "    def __init__(self, name, age, salary, post):\n",
    "        self.name = name\n",
    "        self.age = age\n",
    "        self.salary = salary\n",
    "        self.post = post\n",
    "        \n",
    "    def displayEmp(self):\n",
    "        print(self.name)\n",
    "        print(str(self.age))\n",
    "        print(str(self.salary))\n",
    "        print(self.post)\n",
    "        \n",
    "e1 = Employee(\"Shlok\", 19, 200000, \"Developer\")\n",
    "e1.display()\n",
    "print()\n",
    "e1.displayEmp()"
   ]
  },
  {
   "cell_type": "code",
   "execution_count": 7,
   "metadata": {},
   "outputs": [
    {
     "name": "stdout",
     "output_type": "stream",
     "text": [
      "Welcome to Stark Industries\n",
      "Here Steve is working on Mark 4\n",
      "The salary of Steve is 9999999\n"
     ]
    }
   ],
   "source": [
    "class Company:\n",
    "    \n",
    "    def __init__(self, name, proj):\n",
    "        self.name = name\n",
    "        self.proj = proj\n",
    "        \n",
    "    def show(self):\n",
    "        print(\"The code of company is \" + self.ccode)\n",
    "        \n",
    "class Emp(Company):\n",
    "    \n",
    "    def __init__(self, eName, sal, cName, proj):\n",
    "        Company.__init__(self, cName, proj)\n",
    "        self.name = eName\n",
    "        self.sal = sal\n",
    "        \n",
    "    def show_sal(self):\n",
    "        print(\"The salary of \" + self.name + \" is \" + str(self.sal))\n",
    "            \n",
    "            \n",
    "c = Company(\"Stark Industries\", \"Mark 4\")\n",
    "e = Emp(\"Steve\", 9999999, c.name, c.proj)\n",
    "\n",
    "print(\"Welcome to \" + c.name)\n",
    "print(\"Here \" + e.name + \" is working on \" + e.proj)\n",
    "e.show_sal()"
   ]
  },
  {
   "cell_type": "code",
   "execution_count": 9,
   "metadata": {},
   "outputs": [
    {
     "name": "stdout",
     "output_type": "stream",
     "text": [
      "The enrichment from AnotherSubClass\n"
     ]
    }
   ],
   "source": [
    "from abc import ABC, abstractmethod\n",
    "\n",
    "class AbstractClassExample(ABC):\n",
    "    \n",
    "    def do_something(self):\n",
    "        pass\n",
    "    \n",
    "class AnotherSubClass(AbstractClassExample):\n",
    "    \n",
    "    def do_something(self):\n",
    "        super().do_something()\n",
    "        print(\"The enrichment from AnotherSubClass\")\n",
    "        \n",
    "        \n",
    "x = AnotherSubClass()\n",
    "x.do_something()"
   ]
  },
  {
   "cell_type": "code",
   "execution_count": null,
   "metadata": {},
   "outputs": [],
   "source": []
  }
 ],
 "metadata": {
  "kernelspec": {
   "display_name": "Python 3",
   "language": "python",
   "name": "python3"
  },
  "language_info": {
   "codemirror_mode": {
    "name": "ipython",
    "version": 3
   },
   "file_extension": ".py",
   "mimetype": "text/x-python",
   "name": "python",
   "nbconvert_exporter": "python",
   "pygments_lexer": "ipython3",
   "version": "3.8.5"
  }
 },
 "nbformat": 4,
 "nbformat_minor": 4
}
